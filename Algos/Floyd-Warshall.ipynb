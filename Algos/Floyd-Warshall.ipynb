{
 "cells": [
  {
   "cell_type": "code",
   "execution_count": 2,
   "metadata": {},
   "outputs": [
    {
     "name": "stdout",
     "output_type": "stream",
     "text": [
      "[[0, 5, 99999, 10], [99999, 0, 3, 99999], [99999, 99999, 0, 1], [99999, 99999, 99999, 0]]\n",
      "------------\n",
      "[[0, 5, 99999, 10], [99999, 0, 3, 99999], [99999, 99999, 0, 1], [99999, 99999, 99999, 0]]\n",
      "------------\n",
      "[[0, 5, 8, 10], [99999, 0, 3, 99999], [99999, 99999, 0, 1], [99999, 99999, 99999, 0]]\n",
      "------------\n",
      "[[0, 5, 8, 9], [99999, 0, 3, 4], [99999, 99999, 0, 1], [99999, 99999, 99999, 0]]\n",
      "------------\n",
      "[[0, 5, 8, 9], [99999, 0, 3, 4], [99999, 99999, 0, 1], [99999, 99999, 99999, 0]]\n",
      "------------\n",
      "Following matrix shows the shortest distances between every pair of vertices\n",
      "[[0, 5, 8, 9], [99999, 0, 3, 4], [99999, 99999, 0, 1], [99999, 99999, 99999, 0]]\n"
     ]
    }
   ],
   "source": [
    "# Python Program for Floyd Warshall Algorithm \n",
    "  \n",
    "# Number of vertices in the graph \n",
    "V = 4 \n",
    "  \n",
    "# Define infinity as the large enough value. This value will be \n",
    "# used for vertices not connected to each other \n",
    "INF  = 99999\n",
    "  \n",
    "# Solves all pair shortest path via Floyd Warshall Algorithm \n",
    "def floydWarshall(dist): \n",
    "  \n",
    "    \"\"\" dist[][] will be the output matrix that will finally \n",
    "        have the shortest distances between every pair of vertices \"\"\"\n",
    "    \"\"\" initializing the solution matrix same as input graph matrix \n",
    "    OR we can say that the initial values of shortest distances \n",
    "    are based on shortest paths considering no  \n",
    "    intermediate vertices \"\"\"\n",
    "    \n",
    "    dist = graph.copy() ## you can have all dist be INF also. Or update graph directly.\n",
    "    \n",
    "    \"\"\" Add all vertices one by one to the set of intermediate \n",
    "     vertices. \n",
    "     ---> Before start of an iteration, we have shortest distances \n",
    "     between all pairs of vertices such that the shortest \n",
    "     distances consider only the vertices in the set  \n",
    "    {0, 1, 2, .. k-1} as intermediate vertices. \n",
    "      ----> After the end of a iteration, vertex no. k is \n",
    "     added to the set of intermediate vertices and the  \n",
    "    set becomes {0, 1, 2, .. k} \n",
    "    \"\"\"\n",
    "    print(dist)\n",
    "    print('------------')\n",
    "    for k in range(V): \n",
    "  \n",
    "        # pick all vertices as source one by one \n",
    "        for i in range(V): \n",
    "  \n",
    "            # Pick all vertices as destination for the \n",
    "            # above picked source \n",
    "            for j in range(V): \n",
    "                # If vertex k is on the shortest path from  \n",
    "                # i to j, then update the value of dist[i][j]\n",
    "                dist[i][j] = min(dist[i][j] ,  dist[i][k]+ dist[k][j] ) \n",
    "        print(dist)\n",
    "        print('------------')\n",
    "    printSolution(dist) \n",
    "  \n",
    "  \n",
    "# A utility function to print the solution \n",
    "def printSolution(dist): \n",
    "    print(\"Following matrix shows the shortest distances between every pair of vertices\")\n",
    "    print(dist)\n",
    "  \n",
    "  \n",
    "\n",
    "# Driver program to test the above program \n",
    "# Let us create the following weighted graph \n",
    "\"\"\" \n",
    "            10 \n",
    "       (0)------->(3) \n",
    "        |         /|\\ \n",
    "      5 |          | \n",
    "        |          | 1 \n",
    "       \\|/         | \n",
    "       (1)------->(2) \n",
    "            3           \"\"\"\n",
    "graph = [[0,5,INF,10], \n",
    "             [INF,0,3,INF], \n",
    "             [INF, INF, 0,   1], \n",
    "             [INF, INF, INF, 0]] \n",
    "# Print the solution \n",
    "floydWarshall(graph); \n",
    "# This code is contributed by Nikhil Kumar Singh(nickzuck_007) "
   ]
  },
  {
   "cell_type": "code",
   "execution_count": 3,
   "metadata": {},
   "outputs": [
    {
     "name": "stdout",
     "output_type": "stream",
     "text": [
      "[[0, 3, 99999, 7], [8, 0, 2, 99999], [5, 99999, 0, 1], [2, 99999, 99999, 0]]\n",
      "------------\n",
      "[[0, 3, 99999, 7], [8, 0, 2, 15], [5, 8, 0, 1], [2, 5, 99999, 0]]\n",
      "------------\n",
      "[[0, 3, 5, 7], [8, 0, 2, 15], [5, 8, 0, 1], [2, 5, 7, 0]]\n",
      "------------\n",
      "[[0, 3, 5, 6], [7, 0, 2, 3], [5, 8, 0, 1], [2, 5, 7, 0]]\n",
      "------------\n",
      "[[0, 3, 5, 6], [5, 0, 2, 3], [3, 6, 0, 1], [2, 5, 7, 0]]\n",
      "------------\n",
      "Following matrix shows the shortest distances between every pair of vertices\n",
      "[[0, 3, 5, 6], [5, 0, 2, 3], [3, 6, 0, 1], [2, 5, 7, 0]]\n"
     ]
    }
   ],
   "source": [
    "graph = [\n",
    "        [0, 3, INF, 7],\n",
    "        [8, 0, 2, INF],\n",
    "        [5, INF, 0, 1],\n",
    "        [2, INF, INF, 0]\n",
    "        ]\n",
    "floydWarshall(graph)"
   ]
  },
  {
   "cell_type": "code",
   "execution_count": 4,
   "metadata": {},
   "outputs": [
    {
     "name": "stdout",
     "output_type": "stream",
     "text": [
      "[[0, 3, 99999, 99999], [99999, 0, 99999, 2], [99999, 99999, 0, 99999], [99999, 99999, 1, 0]]\n",
      "------------\n",
      "[[0, 3, 99999, 99999], [99999, 0, 99999, 2], [99999, 99999, 0, 99999], [99999, 99999, 1, 0]]\n",
      "------------\n",
      "[[0, 3, 99999, 5], [99999, 0, 99999, 2], [99999, 99999, 0, 99999], [99999, 99999, 1, 0]]\n",
      "------------\n",
      "[[0, 3, 99999, 5], [99999, 0, 99999, 2], [99999, 99999, 0, 99999], [99999, 99999, 1, 0]]\n",
      "------------\n",
      "[[0, 3, 6, 5], [99999, 0, 3, 2], [99999, 99999, 0, 99999], [99999, 99999, 1, 0]]\n",
      "------------\n",
      "Following matrix shows the shortest distances between every pair of vertices\n",
      "[[0, 3, 6, 5], [99999, 0, 3, 2], [99999, 99999, 0, 99999], [99999, 99999, 1, 0]]\n"
     ]
    }
   ],
   "source": [
    "graph = [[0,3,INF,INF], \n",
    "             [INF,0,INF,2], \n",
    "             [INF, INF, 0,   INF], \n",
    "             [INF, INF, 1, 0]] \n",
    "floydWarshall(graph); "
   ]
  },
  {
   "cell_type": "code",
   "execution_count": 5,
   "metadata": {},
   "outputs": [
    {
     "name": "stdout",
     "output_type": "stream",
     "text": [
      "[[0, 1, 99999, 99999], [99999, 0, 1, 99999], [99999, 99999, 0, 1], [1, 99999, 99999, 0]]\n",
      "------------\n",
      "[[0, 1, 99999, 99999], [99999, 0, 1, 99999], [99999, 99999, 0, 1], [1, 2, 99999, 0]]\n",
      "------------\n",
      "[[0, 1, 2, 99999], [99999, 0, 1, 99999], [99999, 99999, 0, 1], [1, 2, 3, 0]]\n",
      "------------\n",
      "[[0, 1, 2, 3], [99999, 0, 1, 2], [99999, 99999, 0, 1], [1, 2, 3, 0]]\n",
      "------------\n",
      "[[0, 1, 2, 3], [3, 0, 1, 2], [2, 3, 0, 1], [1, 2, 3, 0]]\n",
      "------------\n",
      "Following matrix shows the shortest distances between every pair of vertices\n",
      "[[0, 1, 2, 3], [3, 0, 1, 2], [2, 3, 0, 1], [1, 2, 3, 0]]\n"
     ]
    }
   ],
   "source": [
    "graph = [\n",
    "        [0,1,INF,INF], \n",
    "        [INF,0,1,INF], \n",
    "        [INF,INF,0,1], \n",
    "        [1,INF,INF,0]\n",
    "        ] \n",
    "floydWarshall(graph); "
   ]
  },
  {
   "cell_type": "code",
   "execution_count": null,
   "metadata": {},
   "outputs": [],
   "source": []
  }
 ],
 "metadata": {
  "kernelspec": {
   "display_name": "Python 3",
   "language": "python",
   "name": "python3"
  },
  "language_info": {
   "codemirror_mode": {
    "name": "ipython",
    "version": 3
   },
   "file_extension": ".py",
   "mimetype": "text/x-python",
   "name": "python",
   "nbconvert_exporter": "python",
   "pygments_lexer": "ipython3",
   "version": "3.7.6"
  }
 },
 "nbformat": 4,
 "nbformat_minor": 4
}
