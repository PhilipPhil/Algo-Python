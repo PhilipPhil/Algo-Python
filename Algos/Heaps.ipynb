{
 "cells": [
  {
   "cell_type": "markdown",
   "metadata": {},
   "source": [
    "- Max heap or Priority queue\n",
    "- Min heap\n",
    "- Median heap, maintain two heaps, one max and one min. Classic problem.\n",
    "\n",
    "General:\n",
    "It is an array. Insert into the last position of the array. Then bubble that value into the correct location.\n",
    "\n",
    "i = 2i : left node\n",
    "i = 2i + 1 : right node\n",
    "max debth = O(log2(n))\n",
    "\n",
    "min/max = O(1)\n",
    "\n",
    "insert and delete = O(log(n))\n",
    "\n",
    "heapsort = O(nlog(n))\n",
    "\n",
    "build heap = o(n) -> Not O(nlog(n)) proof https://www.youtube.com/watch?v=XZ_Beap6Vo0&ab_channel=SandeepKumar\n",
    "\n",
    "Great article on how to code this up.\n",
    "https://www.geeksforgeeks.org/binary-heap/"
   ]
  },
  {
   "cell_type": "code",
   "execution_count": 1,
   "metadata": {},
   "outputs": [],
   "source": [
    "import math\n",
    "\n",
    "def parent(index):\n",
    "    return math.floor((index-1)/2)\n",
    "\n",
    "def bubbleKey(array, i):\n",
    "    while(i != 0 and array[i] < array[parent(i)]): \n",
    "            array[i], array[parent(i)] = (array[parent(i)], array[i])\n",
    "            i = parent(i)\n",
    "    return array\n",
    "\n",
    "def createHeap(array):\n",
    "    for i in range(1, len(array)):\n",
    "        if(array[i] < array[parent(i)]):\n",
    "            array = bubbleKey(array, i)\n",
    "    return array\n",
    "\n",
    "def removeMin(array):\n",
    "    array[0] = array[len(array)-1]\n",
    "    array = array[0:len(array)-1]\n",
    "    i = 0\n",
    "    while True:\n",
    "        if(len(array) > 2*i+1 and len(array) > 2*i+2):\n",
    "            if(array[2*i+1] < array[2*i+2]):\n",
    "                array[i], array[2*i+1] = (array[2*i+1], array[i])\n",
    "                i = 2*i+1\n",
    "            else:\n",
    "                array[i], array[2*i+2] = (array[2*i+2], array[i])\n",
    "                i = 2*i+2\n",
    "                \n",
    "        elif(len(array) > 2*i+1):\n",
    "            if(array[2*i] < array[2*i+1]):\n",
    "                array[i], array[2*i+1] = (array[2*i+1], array[i])\n",
    "                i = 2*i+1\n",
    "            else:\n",
    "                break\n",
    "        else:\n",
    "            break\n",
    "    return array\n",
    "\n",
    "def insert(array, val):\n",
    "    array.append(val)\n",
    "    if(array[len(array)-1] < array[parent(len(array)-1)]):\n",
    "        array = bubbleKey(array, len(array)-1)\n",
    "    return array"
   ]
  },
  {
   "cell_type": "code",
   "execution_count": 172,
   "metadata": {},
   "outputs": [
    {
     "name": "stdout",
     "output_type": "stream",
     "text": [
      "Start\n",
      "[10, 2, 5, 3, 5, 7, 3, 8, 1]\n",
      "create heap\n",
      "[1, 2, 3, 3, 5, 7, 5, 10, 8]\n",
      "removeMin = 1\n",
      "[2, 3, 3, 10, 5, 7, 5, 8]\n",
      "insert 1 back\n",
      "[1, 2, 3, 3, 5, 7, 5, 8, 10]\n",
      "insert 11, 5, 6\n",
      "[1, 2, 3, 3, 5, 6, 5, 8, 10, 11, 5, 7]\n"
     ]
    }
   ],
   "source": [
    "array = [10,2,5,3,5,7,3,8,1]\n",
    "print('Start')\n",
    "print(array)\n",
    "\n",
    "print('create heap')\n",
    "array = createHeap(array)\n",
    "print(array)\n",
    "\n",
    "print('removeMin = 1')\n",
    "array = removeMin(createHeap(array))\n",
    "print(array)\n",
    "\n",
    "print('insert 1 back')\n",
    "array = insert(array, 1)\n",
    "print(array)\n",
    "\n",
    "print('insert 11, 5, 6')\n",
    "array = insert(array, 11)\n",
    "array = insert(array, 5)\n",
    "array = insert(array, 6)\n",
    "print(array)"
   ]
  },
  {
   "cell_type": "code",
   "execution_count": null,
   "metadata": {},
   "outputs": [],
   "source": []
  }
 ],
 "metadata": {
  "kernelspec": {
   "display_name": "Python 3",
   "language": "python",
   "name": "python3"
  },
  "language_info": {
   "codemirror_mode": {
    "name": "ipython",
    "version": 3
   },
   "file_extension": ".py",
   "mimetype": "text/x-python",
   "name": "python",
   "nbconvert_exporter": "python",
   "pygments_lexer": "ipython3",
   "version": "3.7.6"
  }
 },
 "nbformat": 4,
 "nbformat_minor": 4
}
