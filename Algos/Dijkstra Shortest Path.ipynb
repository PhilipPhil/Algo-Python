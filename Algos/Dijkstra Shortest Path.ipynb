{
 "cells": [
  {
   "cell_type": "markdown",
   "metadata": {},
   "source": [
    "Rather then looping to find min edge time complexity can be reduced from O(nm) to O(mlog(n)). Also visited should be a hash set for O(1) to check if visited. Also you wan't to finish when end node is checked if you are looking for that distance."
   ]
  },
  {
   "cell_type": "code",
   "execution_count": 1,
   "metadata": {},
   "outputs": [],
   "source": [
    "import math\n",
    "vertices = 9\n",
    "graph = [[0, 4, 0, 0, 0, 0, 0, 8, 0], \n",
    "        [4, 0, 8, 0, 0, 0, 0, 11, 0], \n",
    "        [0, 8, 0, 7, 0, 4, 0, 0, 2], \n",
    "        [0, 0, 7, 0, 9, 14, 0, 0, 0], \n",
    "        [0, 0, 0, 9, 0, 10, 0, 0, 0], \n",
    "        [0, 0, 4, 14, 10, 0, 2, 0, 0], \n",
    "        [0, 0, 0, 0, 0, 2, 0, 1, 6], \n",
    "        [8, 11, 0, 0, 0, 0, 1, 0, 7], \n",
    "        [0, 0, 2, 0, 0, 0, 6, 7, 0]]"
   ]
  },
  {
   "cell_type": "code",
   "execution_count": 2,
   "metadata": {},
   "outputs": [],
   "source": [
    "def dijkstra(src, vertices, graph): \n",
    "    dist = [math.inf] * vertices\n",
    "    dist[src] = 0\n",
    "    visited = [False] * vertices \n",
    "\n",
    "     for cout in range(vertices): \n",
    "    \n",
    "        minDist = math.inf \n",
    "        for v in range(vertices): \n",
    "            if dist[v] < minDist and visited[v] == False: \n",
    "                minDist = dist[v] \n",
    "                min_index = v\n",
    "                \n",
    "        u = min_index\n",
    "        visited[u] = True\n",
    "\n",
    "        for v in range(vertices): \n",
    "            if(graph[u][v] > 0 and\n",
    "                visited[v] == False and \n",
    "                dist[v] > dist[u] + graph[u][v]): \n",
    "                dist[v] = dist[u] + graph[u][v] \n",
    "    \n",
    "    print([x for x in range(vertices)])\n",
    "    print(dist)"
   ]
  },
  {
   "cell_type": "code",
   "execution_count": 3,
   "metadata": {},
   "outputs": [
    {
     "name": "stdout",
     "output_type": "stream",
     "text": [
      "done\n",
      "[0, 1, 2, 3, 4, 5, 6, 7, 8]\n",
      "[inf, inf, 2, inf, inf, inf, 6, 7, 0]\n"
     ]
    }
   ],
   "source": [
    "dijkstra(8, vertices, graph)"
   ]
  },
  {
   "cell_type": "code",
   "execution_count": null,
   "metadata": {},
   "outputs": [],
   "source": []
  }
 ],
 "metadata": {
  "kernelspec": {
   "display_name": "Python 3",
   "language": "python",
   "name": "python3"
  },
  "language_info": {
   "codemirror_mode": {
    "name": "ipython",
    "version": 3
   },
   "file_extension": ".py",
   "mimetype": "text/x-python",
   "name": "python",
   "nbconvert_exporter": "python",
   "pygments_lexer": "ipython3",
   "version": "3.7.6"
  }
 },
 "nbformat": 4,
 "nbformat_minor": 4
}
