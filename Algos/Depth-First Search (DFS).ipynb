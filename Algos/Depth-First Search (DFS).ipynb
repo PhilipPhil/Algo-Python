{
 "cells": [
  {
   "cell_type": "code",
   "execution_count": 31,
   "metadata": {},
   "outputs": [],
   "source": [
    "from collections import defaultdict\n",
    "from collections import deque"
   ]
  },
  {
   "cell_type": "code",
   "execution_count": 34,
   "metadata": {},
   "outputs": [],
   "source": [
    "# written while loop rather than recursion\n",
    "def DFS(start, graph, number_of_nodes=len(graph)):\n",
    "    visited = [False] * number_of_nodes\n",
    "    stack = deque()\n",
    "    stack.append(start)\n",
    "    visited[start] = True\n",
    "    while stack:\n",
    "        start = stack.pop()\n",
    "        print (start, end = \" \")\n",
    "        for node in graph[start]:\n",
    "            if(visited[node] == False):\n",
    "                stack.append(node)\n",
    "                visited[node] = True"
   ]
  },
  {
   "cell_type": "code",
   "execution_count": 38,
   "metadata": {},
   "outputs": [
    {
     "name": "stdout",
     "output_type": "stream",
     "text": [
      "0 3 1 4 7 8 6 5 2 "
     ]
    }
   ],
   "source": [
    "graph = defaultdict(list)\n",
    "graph[0].append(1)\n",
    "graph[0].append(3)\n",
    "graph[1].append(2)\n",
    "graph[1].append(4)\n",
    "graph[4].append(5)\n",
    "graph[4].append(7)\n",
    "graph[7].append(6)\n",
    "graph[5].append(8)\n",
    "graph[7].append(8)\n",
    "\n",
    "DFS(0, graph, 9)"
   ]
  },
  {
   "cell_type": "code",
   "execution_count": 36,
   "metadata": {},
   "outputs": [
    {
     "data": {
      "text/plain": [
       "4"
      ]
     },
     "execution_count": 36,
     "metadata": {},
     "output_type": "execute_result"
    }
   ],
   "source": [
    "graph = defaultdict(list)\n",
    "graph[0].append(1)\n",
    "graph[0].append(2)\n",
    "graph[1].append(2)\n",
    "graph[2].append(0)\n",
    "graph[2].append(3)\n",
    "graph[3].append(3)\n",
    "len(graph)"
   ]
  },
  {
   "cell_type": "code",
   "execution_count": 37,
   "metadata": {},
   "outputs": [
    {
     "name": "stdout",
     "output_type": "stream",
     "text": [
      "2 3 0 1 "
     ]
    }
   ],
   "source": [
    "DFS(2, graph)"
   ]
  },
  {
   "cell_type": "code",
   "execution_count": null,
   "metadata": {},
   "outputs": [],
   "source": []
  }
 ],
 "metadata": {
  "kernelspec": {
   "display_name": "Python 3",
   "language": "python",
   "name": "python3"
  },
  "language_info": {
   "codemirror_mode": {
    "name": "ipython",
    "version": 3
   },
   "file_extension": ".py",
   "mimetype": "text/x-python",
   "name": "python",
   "nbconvert_exporter": "python",
   "pygments_lexer": "ipython3",
   "version": "3.7.6"
  }
 },
 "nbformat": 4,
 "nbformat_minor": 4
}
